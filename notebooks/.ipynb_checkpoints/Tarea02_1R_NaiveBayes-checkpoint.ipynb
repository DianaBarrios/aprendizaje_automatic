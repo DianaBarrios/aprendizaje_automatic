{
 "cells": [
  {
   "cell_type": "markdown",
   "metadata": {},
   "source": [
    "# Tarea 02: 1R, 0R y Naive Bayes"
   ]
  },
  {
   "cell_type": "markdown",
   "metadata": {},
   "source": [
    "## Peguntas a responder\n",
    "    •    Cuál es la respuesta del 0R y el 1R al \"query\":  <(Outlook, Rainy), (Temperature, 76.3), (Humidity, 81.6), (Windy, False)>?\n",
    "    •    Si el query tuviera un \"missing value\" en el atributo de \"Humidity\": <(Outlook, Rainy), (Temperature, 76.3), (Windy, False)>. Cuál sería la respuesta del 0R y cuál del 1R?\n",
    "    •    Si quitamos las últimas 4 instancias de la tabla de la página 9, cuál sería la nueva tabla de errores del 1R y cuál sería la nueva regla ganadora?\n",
    "    •    Con esta nueva tabla, cuál sería la respuesta del 1R al mismo query del primer punto?\n",
    "    •    Si quitamos las últimas 4 instancias de la tabla de la página 9, cuál sería la nueva tabla de probabilidades del Naive Bayes?\n",
    "    •    Con esta nueva tabla, cuál sería la respuesta del Naive Bayes al mismo query del primer punto?"
   ]
  },
  {
   "cell_type": "markdown",
   "metadata": {},
   "source": [
    "# Codigo"
   ]
  },
  {
   "cell_type": "markdown",
   "metadata": {},
   "source": [
    "## Importar Modulos"
   ]
  },
  {
   "cell_type": "code",
   "execution_count": 234,
   "metadata": {},
   "outputs": [],
   "source": [
    "from collections import defaultdict\n",
    "from pathlib import Path\n",
    "\n",
    "import pandas as pd\n",
    "from pprint import pprint\n",
    "from scipy.stats import norm"
   ]
  },
  {
   "cell_type": "markdown",
   "metadata": {},
   "source": [
    "## Importar Datos"
   ]
  },
  {
   "cell_type": "code",
   "execution_count": 4,
   "metadata": {
    "scrolled": false
   },
   "outputs": [
    {
     "data": {
      "text/html": [
       "<div>\n",
       "<style scoped>\n",
       "    .dataframe tbody tr th:only-of-type {\n",
       "        vertical-align: middle;\n",
       "    }\n",
       "\n",
       "    .dataframe tbody tr th {\n",
       "        vertical-align: top;\n",
       "    }\n",
       "\n",
       "    .dataframe thead th {\n",
       "        text-align: right;\n",
       "    }\n",
       "</style>\n",
       "<table border=\"1\" class=\"dataframe\">\n",
       "  <thead>\n",
       "    <tr style=\"text-align: right;\">\n",
       "      <th></th>\n",
       "      <th>Outlook</th>\n",
       "      <th>Temperature</th>\n",
       "      <th>Humidity</th>\n",
       "      <th>Windy</th>\n",
       "      <th>Play</th>\n",
       "    </tr>\n",
       "  </thead>\n",
       "  <tbody>\n",
       "    <tr>\n",
       "      <td>0</td>\n",
       "      <td>sunny</td>\n",
       "      <td>85</td>\n",
       "      <td>85</td>\n",
       "      <td>False</td>\n",
       "      <td>no</td>\n",
       "    </tr>\n",
       "    <tr>\n",
       "      <td>1</td>\n",
       "      <td>sunny</td>\n",
       "      <td>80</td>\n",
       "      <td>90</td>\n",
       "      <td>True</td>\n",
       "      <td>no</td>\n",
       "    </tr>\n",
       "    <tr>\n",
       "      <td>2</td>\n",
       "      <td>overcast</td>\n",
       "      <td>83</td>\n",
       "      <td>86</td>\n",
       "      <td>False</td>\n",
       "      <td>yes</td>\n",
       "    </tr>\n",
       "    <tr>\n",
       "      <td>3</td>\n",
       "      <td>rainy</td>\n",
       "      <td>70</td>\n",
       "      <td>96</td>\n",
       "      <td>False</td>\n",
       "      <td>yes</td>\n",
       "    </tr>\n",
       "    <tr>\n",
       "      <td>4</td>\n",
       "      <td>rainy</td>\n",
       "      <td>68</td>\n",
       "      <td>80</td>\n",
       "      <td>False</td>\n",
       "      <td>yes</td>\n",
       "    </tr>\n",
       "    <tr>\n",
       "      <td>5</td>\n",
       "      <td>rainy</td>\n",
       "      <td>65</td>\n",
       "      <td>70</td>\n",
       "      <td>True</td>\n",
       "      <td>no</td>\n",
       "    </tr>\n",
       "    <tr>\n",
       "      <td>6</td>\n",
       "      <td>overcast</td>\n",
       "      <td>64</td>\n",
       "      <td>65</td>\n",
       "      <td>True</td>\n",
       "      <td>yes</td>\n",
       "    </tr>\n",
       "    <tr>\n",
       "      <td>7</td>\n",
       "      <td>sunny</td>\n",
       "      <td>72</td>\n",
       "      <td>95</td>\n",
       "      <td>False</td>\n",
       "      <td>no</td>\n",
       "    </tr>\n",
       "    <tr>\n",
       "      <td>8</td>\n",
       "      <td>sunny</td>\n",
       "      <td>69</td>\n",
       "      <td>70</td>\n",
       "      <td>False</td>\n",
       "      <td>yes</td>\n",
       "    </tr>\n",
       "    <tr>\n",
       "      <td>9</td>\n",
       "      <td>rainy</td>\n",
       "      <td>75</td>\n",
       "      <td>80</td>\n",
       "      <td>False</td>\n",
       "      <td>yes</td>\n",
       "    </tr>\n",
       "    <tr>\n",
       "      <td>10</td>\n",
       "      <td>sunny</td>\n",
       "      <td>75</td>\n",
       "      <td>70</td>\n",
       "      <td>True</td>\n",
       "      <td>yes</td>\n",
       "    </tr>\n",
       "    <tr>\n",
       "      <td>11</td>\n",
       "      <td>overcast</td>\n",
       "      <td>72</td>\n",
       "      <td>90</td>\n",
       "      <td>True</td>\n",
       "      <td>yes</td>\n",
       "    </tr>\n",
       "    <tr>\n",
       "      <td>12</td>\n",
       "      <td>overcast</td>\n",
       "      <td>81</td>\n",
       "      <td>75</td>\n",
       "      <td>False</td>\n",
       "      <td>yes</td>\n",
       "    </tr>\n",
       "    <tr>\n",
       "      <td>13</td>\n",
       "      <td>rainy</td>\n",
       "      <td>71</td>\n",
       "      <td>91</td>\n",
       "      <td>True</td>\n",
       "      <td>no</td>\n",
       "    </tr>\n",
       "  </tbody>\n",
       "</table>\n",
       "</div>"
      ],
      "text/plain": [
       "     Outlook  Temperature  Humidity  Windy Play\n",
       "0      sunny           85        85  False   no\n",
       "1      sunny           80        90   True   no\n",
       "2   overcast           83        86  False  yes\n",
       "3      rainy           70        96  False  yes\n",
       "4      rainy           68        80  False  yes\n",
       "5      rainy           65        70   True   no\n",
       "6   overcast           64        65   True  yes\n",
       "7      sunny           72        95  False   no\n",
       "8      sunny           69        70  False  yes\n",
       "9      rainy           75        80  False  yes\n",
       "10     sunny           75        70   True  yes\n",
       "11  overcast           72        90   True  yes\n",
       "12  overcast           81        75  False  yes\n",
       "13     rainy           71        91   True   no"
      ]
     },
     "execution_count": 4,
     "metadata": {},
     "output_type": "execute_result"
    }
   ],
   "source": [
    "csv_file = Path('..') / 'data' / 'weather_baseball.csv'\n",
    "weather = pd.read_csv(csv_file,header=0)\n",
    "weather"
   ]
  },
  {
   "cell_type": "markdown",
   "metadata": {},
   "source": [
    "## Implementacion del 1R y del 0R"
   ]
  },
  {
   "cell_type": "markdown",
   "metadata": {},
   "source": [
    "### Funciones de ayuda"
   ]
  },
  {
   "cell_type": "code",
   "execution_count": 168,
   "metadata": {},
   "outputs": [],
   "source": [
    "def get_rule(df, attribute, target):\n",
    "    rule = {'_err': 0}\n",
    "    is_numerical = df[attribute].dtype in (pd.np.int64, pd.np.float64)\n",
    "    if is_numerical:\n",
    "        rule = numerical_rule(df, attribute, target)\n",
    "    else:\n",
    "        rule = categorical_rule(df, attribute, target)\n",
    "    return is_numerical, rule\n",
    "\n",
    "def categorical_rule(df, attribute, target):\n",
    "    values = df[attribute].unique()\n",
    "    target_values = df[target].unique()\n",
    "    rule = {'_err': 0}\n",
    "    for value in values:\n",
    "        df2 = df[df[attribute] == value]\n",
    "        best_choice = max(target_values, key=lambda x: len(df2[df2[target] == x]))\n",
    "        rule[value] = best_choice\n",
    "        rule['_err'] += len(df2[df2[target] != best_choice])\n",
    "    return rule\n",
    "\n",
    "def numerical_rule(df, attribute, target):\n",
    "    attr_df = df[[attribute, target]].sort_values(attribute)\n",
    "    counter = defaultdict(int)\n",
    "    rule = []\n",
    "    prev_attr = prev_target = None\n",
    "    for idx, attr, target in attr_df.itertuples():\n",
    "        counter[target] += 1\n",
    "        if target != prev_target and counter[prev_target] >= 3:\n",
    "            rule.append(((attr+prev_attr)/2, prev_target))\n",
    "            counter.clear()\n",
    "            counter[target] +=1\n",
    "        prev_target = target\n",
    "        prev_attr = attr\n",
    "    rule.append((pd.np.inf, prev_target))\n",
    "    rule = simplify_numerical(rule)\n",
    "    return {'rule': rule}\n",
    "\n",
    "def simplify_numerical(rule):\n",
    "    prev_clause = None\n",
    "    final_rule = []\n",
    "    for clause in reversed(rule):\n",
    "        if clause[1] == prev_clause:\n",
    "            continue\n",
    "        else:\n",
    "            final_rule.insert(0, clause)\n",
    "        prev_clause = clause[1]\n",
    "    return final_rule\n",
    "\n",
    "def predict_r(attribute, rule, data, is_numerical=False):\n",
    "    if attribute not in data:\n",
    "        return 'Error: Cannot predict if the data has no {} value.'.format(attribute)\n",
    "    if is_numerical:\n",
    "        return predict_numerical(attribute, rule, data)\n",
    "    else:\n",
    "        return predict_categorical(attribute, rule, data)\n",
    "\n",
    "def predict_numerical(attribute, rule, data):\n",
    "    value = data[attribute]\n",
    "    for limit, prediction in rule['rule']:\n",
    "        if value <= limit:\n",
    "            return prediction\n",
    "\n",
    "def predict_categorical(attribute, rule, data):\n",
    "    value = data[attribute]\n",
    "    return rule[value]\n",
    "\n",
    "def num_errors(df, all_rules, attribute, target):\n",
    "    rule = all_rules[attribute]\n",
    "    if '_err' in rule:\n",
    "        return (rule['_err'], len(rule))\n",
    "    else:\n",
    "        error = 0\n",
    "        for row in df.itertuples():\n",
    "            if row._asdict()[target] != predict_numerical(attribute, rule, row._asdict()):\n",
    "                error += 1\n",
    "        rule['_err'] = error\n",
    "        return (rule['_err'], len(rule['rule']))"
   ]
  },
  {
   "cell_type": "markdown",
   "metadata": {},
   "source": [
    "### Algoritmo principal"
   ]
  },
  {
   "cell_type": "code",
   "execution_count": 151,
   "metadata": {},
   "outputs": [],
   "source": [
    "def one_r(df, target, print_rules=False):\n",
    "    \"\"\"Aprende de los datos y regresa la mejor regla a aplicar.\"\"\"\n",
    "    rules = {}\n",
    "    for column in df.columns:\n",
    "        if column == target:\n",
    "            continue\n",
    "        numerical, rule = get_rule(df, column, target)\n",
    "        rules[column] = rule\n",
    "    best_rule = min(rules, key=lambda x: num_errors(df, rules, x, target))\n",
    "    if print_rules:\n",
    "        pprint(rules, width=20)\n",
    "    return best_rule, numerical, rules[best_rule]\n",
    "\n",
    "def zero_r(df, target):\n",
    "    \"\"\"Regresa el valor objetivo que mas se repite.\"\"\"\n",
    "    return df[target].value_counts().index[0]"
   ]
  },
  {
   "cell_type": "markdown",
   "metadata": {},
   "source": [
    "## Aplicacion a los datos"
   ]
  },
  {
   "cell_type": "code",
   "execution_count": 167,
   "metadata": {},
   "outputs": [
    {
     "name": "stdout",
     "output_type": "stream",
     "text": [
      "Sin simplificar [(70.5, 'yes'), (77.5, 'yes'), (inf, 'no')]\n",
      "Sin simplificar [(82.5, 'yes'), (95.5, 'no'), (inf, 'yes')]\n"
     ]
    },
    {
     "data": {
      "text/plain": [
       "('Humidity',\n",
       " False,\n",
       " {'rule': [(82.5, 'yes'), (95.5, 'no'), (inf, 'yes')], '_err': 3})"
      ]
     },
     "execution_count": 167,
     "metadata": {},
     "output_type": "execute_result"
    }
   ],
   "source": [
    "learned_rule = one_r(weather, 'Play')\n",
    "learned_rule"
   ]
  },
  {
   "cell_type": "code",
   "execution_count": 147,
   "metadata": {},
   "outputs": [],
   "source": [
    "attribute, is_numerical, rule = learned_rule"
   ]
  },
  {
   "cell_type": "markdown",
   "metadata": {},
   "source": [
    "#### Cuál es la respuesta del 0R y el 1R al \"query\": <(Outlook, Rainy), (Temperature, 76.3), (Humidity, 81.6), (Windy, False)>?"
   ]
  },
  {
   "cell_type": "code",
   "execution_count": 148,
   "metadata": {},
   "outputs": [
    {
     "name": "stdout",
     "output_type": "stream",
     "text": [
      "Resultado 0R: yes\n",
      "Resultado 1R: yes\n"
     ]
    }
   ],
   "source": [
    "query = {'Outlook': 'rainy', 'Temperature': 76.3, 'Humidity': 81.6, 'Windy': False}\n",
    "zero_r_result = zero_r(weather, 'Play')\n",
    "one_r_result = predict_r(attribute, rule, query, is_numerical=True)\n",
    "print('Resultado 0R: {}\\nResultado 1R: {}'.format(zero_r_result, one_r_result))"
   ]
  },
  {
   "cell_type": "markdown",
   "metadata": {},
   "source": [
    "#### Si el query tuviera un \"missing value\" en el atributo de \"Humidity\": <(Outlook, Rainy), (Temperature, 76.3), (Windy, False)>. Cuál sería la respuesta del 0R y cuál del 1R?"
   ]
  },
  {
   "cell_type": "code",
   "execution_count": 149,
   "metadata": {},
   "outputs": [
    {
     "name": "stdout",
     "output_type": "stream",
     "text": [
      "Resultado 0R: yes\n",
      "Resultado 1R: Error: Cannot predict if the data has no Humidity value.\n"
     ]
    }
   ],
   "source": [
    "query = {'Outlook': 'rainy', 'Temperature': 76.3, 'Windy': False}\n",
    "zero_r_result = zero_r(weather, 'Play')\n",
    "one_r_result = predict_r(attribute, rule, query, is_numerical=True)\n",
    "print('Resultado 0R: {}\\nResultado 1R: {}'.format(zero_r_result, one_r_result))"
   ]
  },
  {
   "cell_type": "markdown",
   "metadata": {},
   "source": [
    "#### Si quitamos las últimas 4 instancias de la tabla de la página 9, cuál sería la nueva tabla de errores del 1R y cuál sería la nueva regla ganadora?"
   ]
  },
  {
   "cell_type": "code",
   "execution_count": 153,
   "metadata": {},
   "outputs": [
    {
     "data": {
      "text/html": [
       "<div>\n",
       "<style scoped>\n",
       "    .dataframe tbody tr th:only-of-type {\n",
       "        vertical-align: middle;\n",
       "    }\n",
       "\n",
       "    .dataframe tbody tr th {\n",
       "        vertical-align: top;\n",
       "    }\n",
       "\n",
       "    .dataframe thead th {\n",
       "        text-align: right;\n",
       "    }\n",
       "</style>\n",
       "<table border=\"1\" class=\"dataframe\">\n",
       "  <thead>\n",
       "    <tr style=\"text-align: right;\">\n",
       "      <th></th>\n",
       "      <th>Outlook</th>\n",
       "      <th>Temperature</th>\n",
       "      <th>Humidity</th>\n",
       "      <th>Windy</th>\n",
       "      <th>Play</th>\n",
       "    </tr>\n",
       "  </thead>\n",
       "  <tbody>\n",
       "    <tr>\n",
       "      <td>0</td>\n",
       "      <td>sunny</td>\n",
       "      <td>85</td>\n",
       "      <td>85</td>\n",
       "      <td>False</td>\n",
       "      <td>no</td>\n",
       "    </tr>\n",
       "    <tr>\n",
       "      <td>1</td>\n",
       "      <td>sunny</td>\n",
       "      <td>80</td>\n",
       "      <td>90</td>\n",
       "      <td>True</td>\n",
       "      <td>no</td>\n",
       "    </tr>\n",
       "    <tr>\n",
       "      <td>2</td>\n",
       "      <td>overcast</td>\n",
       "      <td>83</td>\n",
       "      <td>86</td>\n",
       "      <td>False</td>\n",
       "      <td>yes</td>\n",
       "    </tr>\n",
       "    <tr>\n",
       "      <td>3</td>\n",
       "      <td>rainy</td>\n",
       "      <td>70</td>\n",
       "      <td>96</td>\n",
       "      <td>False</td>\n",
       "      <td>yes</td>\n",
       "    </tr>\n",
       "    <tr>\n",
       "      <td>4</td>\n",
       "      <td>rainy</td>\n",
       "      <td>68</td>\n",
       "      <td>80</td>\n",
       "      <td>False</td>\n",
       "      <td>yes</td>\n",
       "    </tr>\n",
       "    <tr>\n",
       "      <td>5</td>\n",
       "      <td>rainy</td>\n",
       "      <td>65</td>\n",
       "      <td>70</td>\n",
       "      <td>True</td>\n",
       "      <td>no</td>\n",
       "    </tr>\n",
       "    <tr>\n",
       "      <td>6</td>\n",
       "      <td>overcast</td>\n",
       "      <td>64</td>\n",
       "      <td>65</td>\n",
       "      <td>True</td>\n",
       "      <td>yes</td>\n",
       "    </tr>\n",
       "    <tr>\n",
       "      <td>7</td>\n",
       "      <td>sunny</td>\n",
       "      <td>72</td>\n",
       "      <td>95</td>\n",
       "      <td>False</td>\n",
       "      <td>no</td>\n",
       "    </tr>\n",
       "    <tr>\n",
       "      <td>8</td>\n",
       "      <td>sunny</td>\n",
       "      <td>69</td>\n",
       "      <td>70</td>\n",
       "      <td>False</td>\n",
       "      <td>yes</td>\n",
       "    </tr>\n",
       "    <tr>\n",
       "      <td>9</td>\n",
       "      <td>rainy</td>\n",
       "      <td>75</td>\n",
       "      <td>80</td>\n",
       "      <td>False</td>\n",
       "      <td>yes</td>\n",
       "    </tr>\n",
       "  </tbody>\n",
       "</table>\n",
       "</div>"
      ],
      "text/plain": [
       "    Outlook  Temperature  Humidity  Windy Play\n",
       "0     sunny           85        85  False   no\n",
       "1     sunny           80        90   True   no\n",
       "2  overcast           83        86  False  yes\n",
       "3     rainy           70        96  False  yes\n",
       "4     rainy           68        80  False  yes\n",
       "5     rainy           65        70   True   no\n",
       "6  overcast           64        65   True  yes\n",
       "7     sunny           72        95  False   no\n",
       "8     sunny           69        70  False  yes\n",
       "9     rainy           75        80  False  yes"
      ]
     },
     "execution_count": 153,
     "metadata": {},
     "output_type": "execute_result"
    }
   ],
   "source": [
    "weather[:-4]"
   ]
  },
  {
   "cell_type": "code",
   "execution_count": 156,
   "metadata": {},
   "outputs": [
    {
     "data": {
      "text/html": [
       "<div>\n",
       "<style scoped>\n",
       "    .dataframe tbody tr th:only-of-type {\n",
       "        vertical-align: middle;\n",
       "    }\n",
       "\n",
       "    .dataframe tbody tr th {\n",
       "        vertical-align: top;\n",
       "    }\n",
       "\n",
       "    .dataframe thead th {\n",
       "        text-align: right;\n",
       "    }\n",
       "</style>\n",
       "<table border=\"1\" class=\"dataframe\">\n",
       "  <thead>\n",
       "    <tr style=\"text-align: right;\">\n",
       "      <th></th>\n",
       "      <th>Outlook</th>\n",
       "      <th>Temperature</th>\n",
       "      <th>Humidity</th>\n",
       "      <th>Windy</th>\n",
       "      <th>Play</th>\n",
       "    </tr>\n",
       "  </thead>\n",
       "  <tbody>\n",
       "    <tr>\n",
       "      <td>6</td>\n",
       "      <td>overcast</td>\n",
       "      <td>64</td>\n",
       "      <td>65</td>\n",
       "      <td>True</td>\n",
       "      <td>yes</td>\n",
       "    </tr>\n",
       "    <tr>\n",
       "      <td>5</td>\n",
       "      <td>rainy</td>\n",
       "      <td>65</td>\n",
       "      <td>70</td>\n",
       "      <td>True</td>\n",
       "      <td>no</td>\n",
       "    </tr>\n",
       "    <tr>\n",
       "      <td>4</td>\n",
       "      <td>rainy</td>\n",
       "      <td>68</td>\n",
       "      <td>80</td>\n",
       "      <td>False</td>\n",
       "      <td>yes</td>\n",
       "    </tr>\n",
       "    <tr>\n",
       "      <td>8</td>\n",
       "      <td>sunny</td>\n",
       "      <td>69</td>\n",
       "      <td>70</td>\n",
       "      <td>False</td>\n",
       "      <td>yes</td>\n",
       "    </tr>\n",
       "    <tr>\n",
       "      <td>3</td>\n",
       "      <td>rainy</td>\n",
       "      <td>70</td>\n",
       "      <td>96</td>\n",
       "      <td>False</td>\n",
       "      <td>yes</td>\n",
       "    </tr>\n",
       "    <tr>\n",
       "      <td>7</td>\n",
       "      <td>sunny</td>\n",
       "      <td>72</td>\n",
       "      <td>95</td>\n",
       "      <td>False</td>\n",
       "      <td>no</td>\n",
       "    </tr>\n",
       "    <tr>\n",
       "      <td>9</td>\n",
       "      <td>rainy</td>\n",
       "      <td>75</td>\n",
       "      <td>80</td>\n",
       "      <td>False</td>\n",
       "      <td>yes</td>\n",
       "    </tr>\n",
       "    <tr>\n",
       "      <td>1</td>\n",
       "      <td>sunny</td>\n",
       "      <td>80</td>\n",
       "      <td>90</td>\n",
       "      <td>True</td>\n",
       "      <td>no</td>\n",
       "    </tr>\n",
       "    <tr>\n",
       "      <td>2</td>\n",
       "      <td>overcast</td>\n",
       "      <td>83</td>\n",
       "      <td>86</td>\n",
       "      <td>False</td>\n",
       "      <td>yes</td>\n",
       "    </tr>\n",
       "    <tr>\n",
       "      <td>0</td>\n",
       "      <td>sunny</td>\n",
       "      <td>85</td>\n",
       "      <td>85</td>\n",
       "      <td>False</td>\n",
       "      <td>no</td>\n",
       "    </tr>\n",
       "  </tbody>\n",
       "</table>\n",
       "</div>"
      ],
      "text/plain": [
       "    Outlook  Temperature  Humidity  Windy Play\n",
       "6  overcast           64        65   True  yes\n",
       "5     rainy           65        70   True   no\n",
       "4     rainy           68        80  False  yes\n",
       "8     sunny           69        70  False  yes\n",
       "3     rainy           70        96  False  yes\n",
       "7     sunny           72        95  False   no\n",
       "9     rainy           75        80  False  yes\n",
       "1     sunny           80        90   True   no\n",
       "2  overcast           83        86  False  yes\n",
       "0     sunny           85        85  False   no"
      ]
     },
     "execution_count": 156,
     "metadata": {},
     "output_type": "execute_result"
    }
   ],
   "source": [
    "weather[:-4].sort_values('Temperature')"
   ]
  },
  {
   "cell_type": "code",
   "execution_count": 169,
   "metadata": {},
   "outputs": [
    {
     "name": "stdout",
     "output_type": "stream",
     "text": [
      "{'Humidity': {'_err': 2,\n",
      "              'rule': [(82.5,\n",
      "                        'yes'),\n",
      "                       (95.5,\n",
      "                        'no'),\n",
      "                       (inf,\n",
      "                        'yes')]},\n",
      " 'Outlook': {'_err': 2,\n",
      "             'overcast': 'yes',\n",
      "             'rainy': 'yes',\n",
      "             'sunny': 'no'},\n",
      " 'Temperature': {'_err': 3,\n",
      "                 'rule': [(71.0,\n",
      "                           'yes'),\n",
      "                          (inf,\n",
      "                           'no')]},\n",
      " 'Windy': {False: 'yes',\n",
      "           True: 'no',\n",
      "           '_err': 3}}\n"
     ]
    },
    {
     "data": {
      "text/plain": [
       "('Humidity',\n",
       " False,\n",
       " {'rule': [(82.5, 'yes'), (95.5, 'no'), (inf, 'yes')], '_err': 2})"
      ]
     },
     "execution_count": 169,
     "metadata": {},
     "output_type": "execute_result"
    }
   ],
   "source": [
    "learned_rule = one_r(weather[:-4], 'Play', print_rules=True)\n",
    "learned_rule"
   ]
  },
  {
   "cell_type": "markdown",
   "metadata": {},
   "source": [
    "#### Con esta nueva tabla, cuál sería la respuesta del 1R al mismo query del primer punto?"
   ]
  },
  {
   "cell_type": "code",
   "execution_count": 170,
   "metadata": {},
   "outputs": [
    {
     "name": "stdout",
     "output_type": "stream",
     "text": [
      "Resultado 0R: yes\n",
      "Resultado 1R: yes\n"
     ]
    }
   ],
   "source": [
    "attribute, is_numerical, rule = learned_rule\n",
    "query = {'Outlook': 'rainy', 'Temperature': 76.3, 'Humidity': 81.6, 'Windy': False}\n",
    "zero_r_result = zero_r(weather, 'Play')\n",
    "one_r_result = predict_r(attribute, rule, query, is_numerical=True)\n",
    "print('Resultado 0R: {}\\nResultado 1R: {}'.format(zero_r_result, one_r_result))"
   ]
  },
  {
   "cell_type": "markdown",
   "metadata": {},
   "source": [
    "## Naive Bayes"
   ]
  },
  {
   "cell_type": "markdown",
   "metadata": {},
   "source": [
    "### Funciones de Ayuda "
   ]
  },
  {
   "cell_type": "code",
   "execution_count": 321,
   "metadata": {},
   "outputs": [],
   "source": [
    "def freq(df, attr, target, laplace_fix=True):\n",
    "    df = df.dropna(subset=[attr])\n",
    "    attr_freqs = {}\n",
    "    for attr_value in df[attr].unique():\n",
    "        attr_freqs[attr_value] = {}\n",
    "        for target_value in df[target].unique():\n",
    "            df1 = df[(df[attr] == attr_value) & (df[target] == target_value)]\n",
    "            total = len(df[df[target] == target_value])\n",
    "            if laplace_fix:\n",
    "                total += len(df[attr].unique())\n",
    "                freq = (len(df1) + 1) / total\n",
    "            else:\n",
    "                freq = len(df1) / total\n",
    "            attr_freqs[attr_value][target_value] = freq\n",
    "    return attr_freqs\n",
    "\n",
    "def numeric_stats(df, attr, target):\n",
    "    numeric_stats = {}\n",
    "    for target_value in df[target].unique():\n",
    "        values = df[df[target] == target_value][attr]\n",
    "        mean = float(values.values.mean())\n",
    "        stdev = float(values.values.std(ddof=1))\n",
    "        numeric_stats[target_value] = mean, stdev\n",
    "    return numeric_stats\n",
    "\n",
    "def gaussian_probability(x, mean, stdev):\n",
    "    return norm.pdf(x, loc=mean, scale=stdev)\n",
    "    \n",
    "def predict_bayes(bayes_table, query, target, print_likelihoods=False):\n",
    "    likelihoods = {}\n",
    "    for tgt_val in bayes_table[target]:\n",
    "        likelihood = 1.0\n",
    "        for attr in query:\n",
    "            if type(query[attr]) in (int, float):\n",
    "                evidence = gaussian_probability(query[attr], *bayes_table[attr][tgt_val])\n",
    "                print(evidence)\n",
    "                likelihood *= evidence\n",
    "            else:\n",
    "                evidence =  bayes_table[attr][query[attr]][tgt_val]\n",
    "                print(evidence)\n",
    "                likelihood *= evidence\n",
    "        apriori = bayes_table[target][tgt_val]\n",
    "        print(apriori)\n",
    "        likelihood *= apriori\n",
    "        likelihoods[tgt_val] = likelihood\n",
    "    if print_likelihoods:\n",
    "        pprint(likelihoods)\n",
    "    best_choice = max(likelihoods, key=lambda x: likelihoods[x])\n",
    "    return best_choice, likelihoods[best_choice]"
   ]
  },
  {
   "cell_type": "markdown",
   "metadata": {},
   "source": [
    "### Algoritmo Principal"
   ]
  },
  {
   "cell_type": "code",
   "execution_count": 322,
   "metadata": {},
   "outputs": [],
   "source": [
    "def naive_bayes(df, target, print_rules=False, laplace_fix=True):\n",
    "    bayes_table = {}\n",
    "    for col in df.columns:\n",
    "        if col == target:\n",
    "            bayes_table[target] = {}\n",
    "            for tgt_value in df[target].unique():\n",
    "                bayes_table[target][tgt_value] = len(df[df[target] == tgt_value]) / len(df)\n",
    "        elif df[col].dtype in (pd.np.int64, pd.np.float64):\n",
    "            bayes_table[col] = numeric_stats(df, col, target)\n",
    "        else:\n",
    "            bayes_table[col] = freq(df, col, target, laplace_fix)\n",
    "    if print_rules:\n",
    "        pprint(bayes_table)\n",
    "    return bayes_table"
   ]
  },
  {
   "cell_type": "code",
   "execution_count": 313,
   "metadata": {},
   "outputs": [
    {
     "name": "stdout",
     "output_type": "stream",
     "text": [
      "{'Humidity': {'no': (86.2, 9.731392500562292),\n",
      "              'yes': (79.11111111111111, 10.215728613814635)},\n",
      " 'Outlook': {'overcast': {'no': 0.125, 'yes': 0.4166666666666667},\n",
      "             'rainy': {'no': 0.375, 'yes': 0.3333333333333333},\n",
      "             'sunny': {'no': 0.5, 'yes': 0.25}},\n",
      " 'Play': {'no': 0.35714285714285715, 'yes': 0.6428571428571429},\n",
      " 'Temperature': {'no': (74.6, 7.893034904268446),\n",
      "                 'yes': (73.0, 6.164414002968976)},\n",
      " 'Windy': {False: {'no': 0.42857142857142855, 'yes': 0.6363636363636364},\n",
      "           True: {'no': 0.5714285714285714, 'yes': 0.36363636363636365}}}\n"
     ]
    }
   ],
   "source": [
    "table = naive_bayes(weather, 'Play', True)"
   ]
  },
  {
   "cell_type": "markdown",
   "metadata": {},
   "source": [
    "#### Si quitamos las últimas 4 instancias de la tabla de la página 9, cuál sería la nueva tabla de probabilidades del Naive Bayes?"
   ]
  },
  {
   "cell_type": "code",
   "execution_count": 314,
   "metadata": {},
   "outputs": [
    {
     "name": "stdout",
     "output_type": "stream",
     "text": [
      "{'Humidity': {'no': (85.0, 10.801234497346433),\n",
      "              'yes': (79.5, 11.095043938624128)},\n",
      " 'Outlook': {'overcast': {'no': 0.14285714285714285, 'yes': 0.3333333333333333},\n",
      "             'rainy': {'no': 0.2857142857142857, 'yes': 0.4444444444444444},\n",
      "             'sunny': {'no': 0.5714285714285714, 'yes': 0.2222222222222222}},\n",
      " 'Play': {'no': 0.4, 'yes': 0.6},\n",
      " 'Temperature': {'no': (75.5, 8.812869377601524),\n",
      "                 'yes': (71.5, 6.6558245169174945)},\n",
      " 'Windy': {False: {'no': 0.5, 'yes': 0.75}, True: {'no': 0.5, 'yes': 0.25}}}\n"
     ]
    }
   ],
   "source": [
    "table = naive_bayes(weather[:-4], 'Play', True)"
   ]
  },
  {
   "cell_type": "markdown",
   "metadata": {},
   "source": [
    "#### Con esta nueva tabla, cuál sería la respuesta del Naive Bayes al mismo query del primer punto?"
   ]
  },
  {
   "cell_type": "code",
   "execution_count": 315,
   "metadata": {},
   "outputs": [
    {
     "name": "stdout",
     "output_type": "stream",
     "text": [
      "{'no': 9.054944602792232e-05, 'yes': 0.00032644037417296816}\n",
      "Bayes Result: yes with a likelihood of 0.00032644037417296816\n"
     ]
    }
   ],
   "source": [
    "query = {'Outlook': 'rainy', 'Temperature': 76.3, 'Humidity': 81.6, 'Windy': False}\n",
    "prediction = predict_bayes(table, query,'Play', True)\n",
    "print(\"Bayes Result: {} with a likelihood of {}\".format(*prediction))"
   ]
  },
  {
   "cell_type": "markdown",
   "metadata": {},
   "source": [
    "#### Revisando ejemplos de las diapositivas"
   ]
  },
  {
   "cell_type": "code",
   "execution_count": 324,
   "metadata": {},
   "outputs": [
    {
     "name": "stdout",
     "output_type": "stream",
     "text": [
      "{'Humidity': {'no': (85.0, 10.801234497346433),\n",
      "              'yes': (79.5, 11.095043938624128)},\n",
      " 'Outlook': {'overcast': {'no': 0.0, 'yes': 0.3333333333333333},\n",
      "             'rainy': {'no': 0.25, 'yes': 0.5},\n",
      "             'sunny': {'no': 0.75, 'yes': 0.16666666666666666}},\n",
      " 'Play': {'no': 0.4, 'yes': 0.6},\n",
      " 'Temperature': {'no': (75.5, 8.812869377601524),\n",
      "                 'yes': (71.5, 6.6558245169174945)},\n",
      " 'Windy': {False: {'no': 0.5, 'yes': 0.8333333333333334},\n",
      "           True: {'no': 0.5, 'yes': 0.16666666666666666}}}\n",
      "0.75\n",
      "0.025320012213401355\n",
      "0.03318219562524907\n",
      "0.5\n",
      "0.4\n",
      "0.16666666666666666\n",
      "0.04260204621576801\n",
      "0.022977410196778368\n",
      "0.16666666666666666\n",
      "0.6\n",
      "{'no': 0.00012602603977481693, 'yes': 1.6314744852030186e-05}\n",
      "Bayes Result: no with a likelihood of 0.00012602603977481693\n"
     ]
    }
   ],
   "source": [
    "query = {'Outlook': 'sunny', 'Temperature': 66, 'Humidity': 90, 'Windy': True}\n",
    "table = naive_bayes(weather[:-4], 'Play', True,laplace_fix=False)\n",
    "prediction = predict_bayes(table, query,'Play', True,)\n",
    "print(\"Bayes Result: {} with a likelihood of {}\".format(*prediction))"
   ]
  },
  {
   "cell_type": "code",
   "execution_count": null,
   "metadata": {},
   "outputs": [],
   "source": []
  }
 ],
 "metadata": {
  "kernelspec": {
   "display_name": "Python 3",
   "language": "python",
   "name": "python3"
  },
  "language_info": {
   "codemirror_mode": {
    "name": "ipython",
    "version": 3
   },
   "file_extension": ".py",
   "mimetype": "text/x-python",
   "name": "python",
   "nbconvert_exporter": "python",
   "pygments_lexer": "ipython3",
   "version": "3.7.3"
  }
 },
 "nbformat": 4,
 "nbformat_minor": 2
}
